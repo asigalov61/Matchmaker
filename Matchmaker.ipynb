{
 "cells": [
  {
   "cell_type": "markdown",
   "id": "6737312c",
   "metadata": {
    "gradient": {
     "editing": false,
     "id": "815ff02e",
     "kernelId": ""
    }
   },
   "source": [
    "# Matchmaker (ver. 1.0)\n",
    "\n",
    "## Algorithmic Multi-Instrumental MIDI Continuation Implementation\n",
    "\n",
    "***\n",
    "\n",
    "Powered by tegridy-tools: https://github.com/asigalov61/tegridy-tools\n",
    "\n",
    "***\n",
    "\n",
    "#### Project Los Angeles\n",
    "\n",
    "#### Tegridy Code 2022\n",
    "\n",
    "***"
   ]
  },
  {
   "cell_type": "markdown",
   "id": "bb61316b",
   "metadata": {},
   "source": [
    "# (Setup Environment)"
   ]
  },
  {
   "cell_type": "code",
   "execution_count": null,
   "id": "989a6c3a",
   "metadata": {},
   "outputs": [],
   "source": [
    "#@title Install all dependencies (run only once per session)\n",
    "\n",
    "!git clone https://github.com/asigalov61/tegridy-tools\n",
    "!pip install tqdm"
   ]
  },
  {
   "cell_type": "code",
   "execution_count": null,
   "id": "b512b6c5",
   "metadata": {
    "gradient": {
     "editing": false,
     "execution_count": 2,
     "id": "bc332770",
     "kernelId": ""
    }
   },
   "outputs": [],
   "source": [
    "print('Loading needed modules. Please wait...')\n",
    "import os\n",
    "\n",
    "from datetime import datetime\n",
    "\n",
    "import secrets, random\n",
    "\n",
    "import copy\n",
    "\n",
    "import tqdm\n",
    "from tqdm import tqdm\n",
    "\n",
    "os.chdir('/notebooks/tegridy-tools/tegridy-tools')\n",
    "\n",
    "print('Loading TMIDIX module...')\n",
    "import TMIDIX\n",
    "\n",
    "print('Loading HaystackSearch module...')\n",
    "from HaystackSearch import HaystackSearch\n",
    "\n",
    "os.chdir('/notebooks/')\n",
    "\n",
    "print('Done!')"
   ]
  },
  {
   "cell_type": "markdown",
   "id": "f4f82f17",
   "metadata": {},
   "source": [
    "***\n",
    "\n",
    "# (Matchmaker Music Database)\n",
    "\n",
    "# (Download ready-to-use database or make your own below)\n",
    "\n",
    "***"
   ]
  },
  {
   "cell_type": "markdown",
   "id": "e730cfd0",
   "metadata": {},
   "source": [
    "# (Download)"
   ]
  },
  {
   "cell_type": "code",
   "execution_count": null,
   "id": "ac87020d",
   "metadata": {
    "gradient": {
     "editing": false,
     "id": "b6e0de85",
     "kernelId": ""
    }
   },
   "outputs": [],
   "source": [
    "# Download ready-to-use Matchmaker Music Database\n",
    "\n",
    "!wget --no-check-certificate -O 'Matchmaker-MI-Database.pickle' \"https://onedrive.live.com/download?cid=8A0D502FC99C608F&resid=8A0D502FC99C608F%2118535&authkey=AMzk2KgwX1Di0z8\""
   ]
  },
  {
   "cell_type": "markdown",
   "id": "2a9cde65",
   "metadata": {
    "gradient": {
     "editing": false,
     "id": "bcfb8108",
     "kernelId": ""
    }
   },
   "source": [
    "***\n",
    "\n",
    "# (Make your own Matchmaker Music Database)"
   ]
  },
  {
   "cell_type": "code",
   "execution_count": null,
   "id": "6ba4c2f4",
   "metadata": {},
   "outputs": [],
   "source": [
    "# Download and unzip LAKH MuseNet MIDI Dataset (Recommended)\n",
    "\n",
    "!wget --no-check-certificate -O 'LAKH-MuseNet-MIDI-Dataset.zip' \"https://onedrive.live.com/download?cid=8A0D502FC99C608F&resid=8A0D502FC99C608F%2118520&authkey=AN-gn1ZxEnO4khE\"\n",
    "\n",
    "!unzip 'LAKH-MuseNet-MIDI-Dataset.zip'"
   ]
  },
  {
   "cell_type": "markdown",
   "id": "12caf6b5",
   "metadata": {},
   "source": [
    "## (Process MIDIs)"
   ]
  },
  {
   "cell_type": "code",
   "execution_count": null,
   "id": "78c2fbd2",
   "metadata": {
    "gradient": {
     "editing": false,
     "id": "2ab58834",
     "kernelId": ""
    }
   },
   "outputs": [],
   "source": [
    "## Process MIDIs\n",
    "\n",
    "sorted_or_random_file_loading_order = False\n",
    "\n",
    "\n",
    "print('TMIDIX MIDI Processor')\n",
    "print('Starting up...')\n",
    "###########\n",
    "\n",
    "files_count = 0\n",
    "\n",
    "gfiles = []\n",
    "\n",
    "melody_chords_f = []\n",
    "\n",
    "###########\n",
    "\n",
    "print('Loading MIDI files...')\n",
    "print('This may take a while on a large dataset in particular.')\n",
    "\n",
    "dataset_addr = \"/notebooks/LAKH MuseNet-CC-BY-NC-SA/\"\n",
    "os.chdir(dataset_addr)\n",
    "filez = list()\n",
    "for (dirpath, dirnames, filenames) in os.walk(dataset_addr):\n",
    "    filez += [os.path.join(dirpath, file) for file in filenames]\n",
    "print('=' * 70)\n",
    "\n",
    "if filez == []:\n",
    "  print('Could not find any MIDI files. Please check Dataset dir...')\n",
    "  print('=' * 70)\n",
    "\n",
    "if sorted_or_random_file_loading_order:\n",
    "  print('Sorting files...')\n",
    "  filez.sort()\n",
    "  print('Done!')\n",
    "  print('=' * 70)\n",
    "else:\n",
    "  random.shuffle(filez)\n",
    "\n",
    "v = 1\n",
    "print('Processing MIDI files. Please wait...')\n",
    "for f in tqdm(filez):\n",
    "  try:\n",
    "    fn = os.path.basename(f)\n",
    "    fn1 = fn.split('.')[0]\n",
    "\n",
    "    files_count += 1\n",
    "    \n",
    "    score0 = TMIDIX.midi2ms_score(open(f, 'rb').read())\n",
    "    \n",
    "    itrack = 1\n",
    "    score = []\n",
    "    while itrack < len(score0):\n",
    "            for event in score0[itrack]:         \n",
    "                if event[0] == 'note':\n",
    "                    score.append(event)\n",
    "            itrack += 1\n",
    "\n",
    "    score1 = []\n",
    "\n",
    "    for s in score:\n",
    "        if s[0] == 'note':\n",
    "            s[1] = round(s[1], -1)\n",
    "            score1.append(s)\n",
    "    score1.sort(key=lambda x: x[4], reverse = True)\n",
    "    score1.sort(key=lambda x: x[1])\n",
    "\n",
    "\n",
    "    INTS_f1 = []\n",
    "\n",
    "    pe = score1[0]\n",
    "\n",
    "    for i in score1:\n",
    "            INTS_f1.append([int(abs(i[1]-pe[1])/ 10), int(i[2] / 10), i[3], i[4], i[5] ])\n",
    "\n",
    "\n",
    "            pe = i\n",
    "\n",
    "    inputs = []\n",
    "\n",
    "    for i in INTS_f1:\n",
    "        if i[0] < 128 and i[0] >= 0:\n",
    "            \n",
    "            if i[0] != 0:\n",
    "                inputs.append(i[0])\n",
    "            \n",
    "            inputs.append(128 + (128 * i[2]) + i[3])\n",
    "\n",
    "    melody_chords_f.append(inputs)\n",
    "    gfiles.append(f)\n",
    "    \n",
    "  except KeyboardInterrupt:\n",
    "    print('Saving current progress and quitting...')\n",
    "    break  \n",
    "  \n",
    "  except Exception as e:\n",
    "    print('Bad MIDI:', f)\n",
    "    print('Reason:', e)\n",
    "    continue"
   ]
  },
  {
   "cell_type": "markdown",
   "id": "324f3070",
   "metadata": {
    "gradient": {
     "id": "20e02549",
     "kernelId": ""
    }
   },
   "source": [
    "# (Test the processed output...)"
   ]
  },
  {
   "cell_type": "code",
   "execution_count": null,
   "id": "5183c99e",
   "metadata": {
    "gradient": {
     "id": "c1739e74",
     "kernelId": ""
    }
   },
   "outputs": [],
   "source": [
    "out = melody_chords_f[0]\n",
    "\n",
    "if len(out) != 0:\n",
    "    \n",
    "  song = []\n",
    "  song = out\n",
    "  song_f = []\n",
    "  time = 0\n",
    "  dur = 0\n",
    "  vel = 0\n",
    "  pitch = 0\n",
    "  duration = 0\n",
    "\n",
    "  for s in song:\n",
    "      if s < 128:\n",
    "        time += s\n",
    "      \n",
    "      else:     \n",
    "        channel = (s - 128) // 128\n",
    "        \n",
    "        pitch = (s-128) % 128\n",
    "        \n",
    "        song_f.append(['note', (abs(time))*10, 250, channel, pitch, pitch ])\n",
    "        \n",
    "        \n",
    "  detailed_stats = TMIDIX.Tegridy_SONG_to_MIDI_Converter(song_f,\n",
    "                                                        output_signature = 'Matchmaker',  \n",
    "                                                        output_file_name = '/notebooks/Matchmaker-Music-Composition', \n",
    "                                                        track_name='Project Los Angeles', \n",
    "                                                        number_of_ticks_per_quarter=500)\n",
    "\n",
    "  print('Done!')"
   ]
  },
  {
   "cell_type": "markdown",
   "id": "fee85f6f",
   "metadata": {
    "gradient": {
     "id": "00b06913",
     "kernelId": ""
    }
   },
   "source": [
    "# (Save processed MIDIs to Matchmaker Database)"
   ]
  },
  {
   "cell_type": "code",
   "execution_count": null,
   "id": "e36e5f1f",
   "metadata": {
    "gradient": {
     "id": "0648a907",
     "kernelId": ""
    }
   },
   "outputs": [],
   "source": [
    "# Save the data\n",
    "\n",
    "INTS = []\n",
    "for m in melody_chords_f:\n",
    "    INTS.extend(m)\n",
    "    \n",
    "len(INTS)\n",
    "\n",
    "TMIDIX.Tegridy_Any_Pickle_File_Writer(INTS, '/notebooks/Matchmaker-MI-Database')"
   ]
  },
  {
   "cell_type": "markdown",
   "id": "110f24f0",
   "metadata": {},
   "source": [
    "***\n",
    "\n",
    "# (Load Matchmaker Music Database)\n",
    "\n",
    "***"
   ]
  },
  {
   "cell_type": "code",
   "execution_count": null,
   "id": "70ac76cf",
   "metadata": {
    "gradient": {
     "execution_count": 4,
     "id": "9cae0dd5",
     "kernelId": ""
    }
   },
   "outputs": [],
   "source": [
    "# Load the database\n",
    "\n",
    "INTS = []\n",
    "\n",
    "INTS = TMIDIX.Tegridy_Any_Pickle_File_Reader('/notebooks/Matchmaker-MI-Database')\n",
    "\n",
    "print('=' * 70)\n",
    "print('Loaded', len(INTS), 'parameters.')\n",
    "print('=' * 70)\n",
    "print('Done!')"
   ]
  },
  {
   "cell_type": "markdown",
   "id": "fceea36f",
   "metadata": {},
   "source": [
    "***\n",
    "\n",
    "# (Generate)\n",
    "\n",
    "***"
   ]
  },
  {
   "cell_type": "markdown",
   "id": "faf20b1c",
   "metadata": {},
   "source": [
    "## (Self-continuation from the database)"
   ]
  },
  {
   "cell_type": "code",
   "execution_count": null,
   "id": "6fab1808",
   "metadata": {
    "gradient": {
     "execution_count": 43,
     "id": "3b4ecb62",
     "kernelId": ""
    }
   },
   "outputs": [],
   "source": [
    "# Self-continuation from the database\n",
    "\n",
    "## WIP. Options will be added and explained in the next update\n",
    "\n",
    "print('=' * 70)\n",
    "print('Matchmaker Music Continuation Generator')\n",
    "print('=' * 70)\n",
    "\n",
    "idx = -1\n",
    "\n",
    "idx_list = [-1]\n",
    "\n",
    "while idx in idx_list:\n",
    "\n",
    "    s = secrets.randbelow(len(INTS))\n",
    "    print(s)\n",
    "    d = 10\n",
    "    nt = 150\n",
    "    idx_list.append(s)\n",
    "    idx = HaystackSearch(INTS[s:s+d], INTS)\n",
    "    \n",
    "    print(idx)\n",
    "    \n",
    "idx_list.append(idx)\n",
    "\n",
    "out = INTS[s-nt:s+d] + INTS[d+idx:d+idx+nt]\n",
    "\n",
    "print('=' * 70)\n",
    "\n",
    "d = -1\n",
    "s = 10\n",
    "\n",
    "for i in range(5):\n",
    "    rnd = secrets.randbelow(len(INTS))\n",
    "    idx1 = HaystackSearch(out[d-s:d], INTS[rnd:])\n",
    "\n",
    "    if idx1 != -1 and idx1+rnd not in idx_list:\n",
    "        print('idx1:', idx1)\n",
    "        out += INTS[idx1+rnd:idx1+rnd+nt]\n",
    "        idx_list += range(idx1+rnd, idx1+rnd+nt)\n",
    "        idx = idx1\n",
    "        d = -1\n",
    "        \n",
    "    else:\n",
    "        d -= s\n",
    "        print(s, d)\n",
    "        if d < -(s * 5):\n",
    "            break\n",
    "            \n",
    "print('=' * 70)\n",
    "    \n",
    "    \n",
    "song_f = []\n",
    "\n",
    "if len(out) != 0:\n",
    "  song = []\n",
    "  song = out\n",
    "  song_f = []\n",
    "  time = 0\n",
    "  dur = 0\n",
    "  vel = 0\n",
    "  pitch = 0\n",
    "  duration = 0\n",
    "  count = 0\n",
    "  for s in song:\n",
    "      if s < 128:\n",
    "        time += s\n",
    "      \n",
    "      else:     \n",
    "        channel = (s - 128) // 128\n",
    "        \n",
    "        pitch = (s-128) % 128\n",
    "        \n",
    "        song_f.append(['note', (abs(time))*10, 250, channel, pitch, pitch ])\n",
    "        \n",
    "        if count % nt == 0:\n",
    "            song_f.append(['text_event', abs(time) * 10, 'Continuation Start Here'])\n",
    "        count += 1\n",
    "        \n",
    "        \n",
    "  detailed_stats = TMIDIX.Tegridy_SONG_to_MIDI_Converter(song_f,\n",
    "                                                        output_signature = 'Matchmaker',  \n",
    "                                                        output_file_name = '/notebooks/Matchmaker-Music-Composition', \n",
    "                                                        track_name='Project Los Angeles', \n",
    "                                                        number_of_ticks_per_quarter=500)\n",
    "\n",
    "print('Done!')\n",
    "print('=' * 70)"
   ]
  },
  {
   "cell_type": "markdown",
   "id": "a11ce269",
   "metadata": {
    "gradient": {
     "id": "36a68a55",
     "kernelId": ""
    }
   },
   "source": [
    "***\n",
    "\n",
    "# (Custom MIDI Continuation)\n",
    "\n",
    "***"
   ]
  },
  {
   "cell_type": "markdown",
   "id": "11054968",
   "metadata": {},
   "source": [
    "## (Load your Custom MIDI here)"
   ]
  },
  {
   "cell_type": "code",
   "execution_count": null,
   "id": "30ad9b9d",
   "metadata": {
    "gradient": {
     "id": "e83c61ba",
     "kernelId": ""
    }
   },
   "outputs": [],
   "source": [
    "# Custom MIDI option\n",
    "\n",
    "## For best results, use multi-instrumental MIDIs with MuseNet channels structure.\n",
    "\n",
    "## You can use any MIDI from LAKH MuseNet MIDI dataset as an easy source of compatible MIDIs\n",
    "\n",
    "print('Loading custom MIDI...')\n",
    "data = TMIDIX.Optimus_MIDI_TXT_Processor('/notebooks/tegridy-tools/tegridy-tools/seed3.mid', \n",
    "                                         dataset_MIDI_events_time_denominator=10, \n",
    "                                         perfect_timings=True, \n",
    "                                         musenet_encoding=False, \n",
    "                                         char_offset=0, \n",
    "                                         MIDI_channel=16, \n",
    "                                         MIDI_patch=range(0, 127)\n",
    "                                        )\n",
    "    \n",
    "\n",
    "SONG1 = data[5]\n",
    "inputs1 = []\n",
    "\n",
    "for i in SONG1:\n",
    "    if i[0] < 128 and i[0] >= 0:\n",
    "            if i[0] != 0:\n",
    "                inputs1.append(i[0])\n",
    "            \n",
    "            inputs1.append(128 + (128 * i[2]) + i[3])\n",
    "            \n",
    "print('Done!')"
   ]
  },
  {
   "cell_type": "markdown",
   "id": "83f3a463",
   "metadata": {},
   "source": [
    "# (Generate custom MIDI continuation)"
   ]
  },
  {
   "cell_type": "code",
   "execution_count": null,
   "id": "69ea2588",
   "metadata": {
    "gradient": {
     "execution_count": 20,
     "id": "e6d91a3e",
     "kernelId": ""
    }
   },
   "outputs": [],
   "source": [
    "# Custom MIDI continuation\n",
    "\n",
    "## WIP. Options will be added and explained in the next update\n",
    "\n",
    "print('=' * 70)\n",
    "print('Matchmaker Music Continuation Generator')\n",
    "print('=' * 70)\n",
    "\n",
    "d = 3\n",
    "\n",
    "\n",
    "idx = -1\n",
    "x = len(inputs1)\n",
    "while idx == -1:\n",
    "    \n",
    "    rnd = secrets.randbelow(len(INTS))\n",
    "    idx = HaystackSearch(inputs1[:x][-d:], INTS)\n",
    "    print(idx)\n",
    "    x -= d\n",
    "    \n",
    "print('=' * 70)\n",
    "    \n",
    "song_f = []\n",
    "out = inputs1[:x] + INTS[idx:idx+x]\n",
    "if len(out) != 0:\n",
    "  song = []\n",
    "  song = out\n",
    "  song_f = []\n",
    "  time = 0\n",
    "  dur = 0\n",
    "  vel = 0\n",
    "  pitch = 0\n",
    "  duration = 0\n",
    "  count = 1\n",
    "  for s in song:\n",
    "      if s < 128:\n",
    "        time += s\n",
    "      \n",
    "      else:     \n",
    "        channel = (s - 128) // 128\n",
    "        \n",
    "        pitch = (s-128) % 128\n",
    "        \n",
    "        song_f.append(['note', (abs(time))*10, 250, channel, pitch, pitch ])\n",
    "        \n",
    "        if count % len(inputs1) == 0:\n",
    "            song_f.append(['text_event', abs(time) * 10, 'Continuation Start Here'])\n",
    "        count += 1\n",
    "        \n",
    "        \n",
    "  detailed_stats = TMIDIX.Tegridy_SONG_to_MIDI_Converter(song_f,\n",
    "                                                        output_signature = 'Matchmaker',  \n",
    "                                                        output_file_name = '/notebooks/Matchmaker-Music-Composition', \n",
    "                                                        track_name='Project Los Angeles', \n",
    "                                                        number_of_ticks_per_quarter=500)\n",
    "print('Done!')\n",
    "print('=' * 70)"
   ]
  },
  {
   "cell_type": "markdown",
   "id": "258d09ff",
   "metadata": {
    "gradient": {
     "id": "7e701ee2",
     "kernelId": ""
    }
   },
   "source": [
    "# Congrats! You did it! :)"
   ]
  }
 ],
 "metadata": {
  "kernelspec": {
   "display_name": "Python 3 (ipykernel)",
   "language": "python",
   "name": "python3"
  },
  "language_info": {
   "codemirror_mode": {
    "name": "ipython",
    "version": 3
   },
   "file_extension": ".py",
   "mimetype": "text/x-python",
   "name": "python",
   "nbconvert_exporter": "python",
   "pygments_lexer": "ipython3",
   "version": "3.8.12"
  }
 },
 "nbformat": 4,
 "nbformat_minor": 5
}
